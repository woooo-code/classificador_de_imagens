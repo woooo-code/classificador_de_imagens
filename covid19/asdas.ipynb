{
 "cells": [
  {
   "cell_type": "markdown",
   "metadata": {},
   "source": [
    "# Transfer learning with TensorFlow"
   ]
  },
  {
   "cell_type": "code",
   "execution_count": 18,
   "metadata": {},
   "outputs": [],
   "source": [
    "import tensorflow as tf\n",
    "from tensorflow import keras\n",
    "import numpy as np\n",
    "import seaborn as sns\n",
    "import os"
   ]
  },
  {
   "cell_type": "markdown",
   "metadata": {},
   "source": [
    "## Analyzing our training dataset"
   ]
  },
  {
   "cell_type": "code",
   "execution_count": 19,
   "metadata": {},
   "outputs": [],
   "source": [
    "root_dir = \"/media/veracrypt6/flower-classifier-master/\"\n",
    "train_dir = os.path.join(root_dir, \"treino\")\n",
    "val_dir = os.path.join(root_dir, \"valida\")"
   ]
  },
  {
   "cell_type": "code",
   "execution_count": 20,
   "metadata": {
    "scrolled": true
   },
   "outputs": [
    {
     "data": {
      "text/plain": [
       "Text(0.5, 1.0, 'Number of training images per category:')"
      ]
     },
     "execution_count": 20,
     "metadata": {},
     "output_type": "execute_result"
    },
    {
     "data": {
      "image/png": "[encoded data removed]",
      "text/plain": [
       "<Figure size 432x288 with 1 Axes>"
      ]
     },
     "metadata": {
      "needs_background": "light"
     },
     "output_type": "display_data"
    }
   ],
   "source": [
    "category_names = sorted(os.listdir(train_dir))\n",
    "nb_categories = len(category_names)\n",
    "img_pr_cat = []\n",
    "for category in category_names:\n",
    "    folder = train_dir + '/' + category\n",
    "    img_pr_cat.append(len(os.listdir(folder)))\n",
    "\n",
    "sns.barplot(y=category_names, x=img_pr_cat).set_title(\"Number of training images per category:\")"
   ]
  },
  {
   "cell_type": "markdown",
   "metadata": {},
   "source": [
    "## Transfer Learning"
   ]
  },
  {
   "cell_type": "markdown",
   "metadata": {},
   "source": [
    "We will use the Xception model from tensorflow."
   ]
  },
  {
   "cell_type": "code",
   "execution_count": 21,
   "metadata": {},
   "outputs": [],
   "source": [
    "keras.backend.clear_session()"
   ]
  },
  {
   "cell_type": "code",
   "execution_count": 22,
   "metadata": {},
   "outputs": [],
   "source": [
    "IMG_SIZE = (224, 224) + (3,)\n",
    "base_model = keras.applications.Xception(include_top=False,\n",
    "                                         weights=\"imagenet\", input_shape=IMG_SIZE, pooling=\"avg\")"
   ]
  },
  {
   "cell_type": "code",
   "execution_count": 23,
   "metadata": {},
   "outputs": [],
   "source": [
    "my_model = keras.models.Sequential()\n",
    "my_model.add(base_model)\n",
    "my_model.add(keras.layers.Dense(nb_categories, activation=\"softmax\"))"
   ]
  },
  {
   "cell_type": "code",
   "execution_count": 24,
   "metadata": {},
   "outputs": [],
   "source": [
    "my_model.layers[0].trainable = False"
   ]
  },
  {
   "cell_type": "markdown",
   "metadata": {},
   "source": [
    "### Loading Data"
   ]
  },
  {
   "cell_type": "code",
   "execution_count": 25,
   "metadata": {},
   "outputs": [],
   "source": [
    "from tensorflow.keras.preprocessing.image import ImageDataGenerator"
   ]
  },
  {
   "cell_type": "code",
   "execution_count": 26,
   "metadata": {},
   "outputs": [],
   "source": [
    "val_data_generator = ImageDataGenerator(rescale=1./255)\n",
    "train_data_generator = ImageDataGenerator(rescale=1/255)"
   ]
  },
  {
   "cell_type": "code",
   "execution_count": 27,
   "metadata": {},
   "outputs": [
    {
     "name": "stdout",
     "output_type": "stream",
     "text": [
      "Found 247 images belonging to 2 classes.\n",
      "Found 0 images belonging to 0 classes.\n"
     ]
    }
   ],
   "source": [
    "train_data = train_data_generator.flow_from_directory(train_dir, target_size=(224, 224),\n",
    "                                              class_mode=\"categorical\", batch_size=12)\n",
    "val_data = val_data_generator.flow_from_directory(val_dir, target_size=(224, 224),\n",
    "                                              class_mode=\"categorical\", batch_size=12)"
   ]
  },
  {
   "cell_type": "markdown",
   "metadata": {},
   "source": [
    "## Train Model"
   ]
  },
  {
   "cell_type": "code",
   "execution_count": 28,
   "metadata": {},
   "outputs": [],
   "source": [
    "my_model.compile(loss=\"categorical_crossentropy\", optimizer=\"adam\", metrics=[\"accuracy\"])"
   ]
  },
  {
   "cell_type": "code",
   "execution_count": 29,
   "metadata": {},
   "outputs": [
    {
     "name": "stdout",
     "output_type": "stream",
     "text": [
      "Epoch 1/10\n",
      "21/21 [==============================] - ETA: 0s - loss: 0.3347 - accuracy: 0.8381\n",
      "Epoch 00001: saving model to /media/flower-classifier-master/training_1/cp.ckpt\n",
      "21/21 [==============================] - 36s 2s/step - loss: 0.3347 - accuracy: 0.8381\n",
      "Epoch 2/10\n",
      "21/21 [==============================] - ETA: 0s - loss: 0.0698 - accuracy: 0.9919\n",
      "Epoch 00002: saving model to /media/flower-classifier-master/training_1/cp.ckpt\n",
      "21/21 [==============================] - 37s 2s/step - loss: 0.0698 - accuracy: 0.9919\n",
      "Epoch 3/10\n",
      "21/21 [==============================] - ETA: 0s - loss: 0.0377 - accuracy: 0.9960\n",
      "Epoch 00003: saving model to /media/flower-classifier-master/training_1/cp.ckpt\n",
      "21/21 [==============================] - 37s 2s/step - loss: 0.0377 - accuracy: 0.9960\n",
      "Epoch 4/10\n",
      "21/21 [==============================] - ETA: 0s - loss: 0.0259 - accuracy: 1.0000\n",
      "Epoch 00004: saving model to /media/flower-classifier-master/training_1/cp.ckpt\n",
      "21/21 [==============================] - 36s 2s/step - loss: 0.0259 - accuracy: 1.0000\n",
      "Epoch 5/10\n",
      "21/21 [==============================] - ETA: 0s - loss: 0.0203 - accuracy: 1.0000\n",
      "Epoch 00005: saving model to /media/flower-classifier-master/training_1/cp.ckpt\n",
      "21/21 [==============================] - 36s 2s/step - loss: 0.0203 - accuracy: 1.0000\n",
      "Epoch 6/10\n",
      "21/21 [==============================] - ETA: 0s - loss: 0.0156 - accuracy: 1.0000\n",
      "Epoch 00006: saving model to /media/flower-classifier-master/training_1/cp.ckpt\n",
      "21/21 [==============================] - 36s 2s/step - loss: 0.0156 - accuracy: 1.0000\n",
      "Epoch 7/10\n",
      "21/21 [==============================] - ETA: 0s - loss: 0.0129 - accuracy: 1.0000\n",
      "Epoch 00007: saving model to /media/flower-classifier-master/training_1/cp.ckpt\n",
      "21/21 [==============================] - 38s 2s/step - loss: 0.0129 - accuracy: 1.0000\n",
      "Epoch 8/10\n",
      "21/21 [==============================] - ETA: 0s - loss: 0.0109 - accuracy: 1.0000\n",
      "Epoch 00008: saving model to /media/flower-classifier-master/training_1/cp.ckpt\n",
      "21/21 [==============================] - 37s 2s/step - loss: 0.0109 - accuracy: 1.0000\n",
      "Epoch 9/10\n",
      "21/21 [==============================] - ETA: 0s - loss: 0.0093 - accuracy: 1.0000\n",
      "Epoch 00009: saving model to /media/flower-classifier-master/training_1/cp.ckpt\n",
      "21/21 [==============================] - 36s 2s/step - loss: 0.0093 - accuracy: 1.0000\n",
      "Epoch 10/10\n",
      "21/21 [==============================] - ETA: 0s - loss: 0.0080 - accuracy: 1.0000\n",
      "Epoch 00010: saving model to /media/flower-classifier-master/training_1/cp.ckpt\n",
      "21/21 [==============================] - 37s 2s/step - loss: 0.0080 - accuracy: 1.0000\n"
     ]
    }
   ],
   "source": [
    "checkpoint_path = \"/media/flower-classifier-master/training_1/cp.ckpt\"\n",
    "checkpoint_dir = os.path.dirname(checkpoint_path)\n",
    "\n",
    "# Create a callback that saves the model's weights\n",
    "cp_callback = tf.keras.callbacks.ModelCheckpoint(filepath=checkpoint_path,\n",
    "                                                 save_weights_only=True,\n",
    "                                                 verbose=1)\n",
    "\n",
    "# Train the model with the new callback\n",
    "history = my_model.fit(train_data, epochs=12, validation_data=val_data, callbacks=[cp_callback])  # Pass callback to training\n",
    "\n",
    "# This may generate warnings related to saving the state of the optimizer.\n",
    "# These warnings (and similar warnings throughout this notebook)\n",
    "# are in place to discourage outdated usage, and can be ignored.\n",
    "\n",
    "\n"
   ]
  },
  {
   "cell_type": "code",
   "execution_count": 30,
   "metadata": {},
   "outputs": [],
   "source": [
    "#history = my_model.fit(train_data, epochs=10, validation_data=val_data)"
   ]
  },
  {
   "cell_type": "markdown",
   "metadata": {},
   "source": [
    "## Save the model"
   ]
  },
  {
   "cell_type": "code",
   "execution_count": 31,
   "metadata": {},
   "outputs": [],
   "source": [
    "keras.models.save_model(model=my_model, filepath=\"flower_classifier.hdf5\")"
   ]
  },
  {
   "cell_type": "markdown",
   "metadata": {},
   "source": [
    "Now onto the web app!!"
   ]
  },
  {
   "cell_type": "code",
   "execution_count": null,
   "metadata": {},
   "outputs": [],
   "source": []
  }
 ],
 "metadata": {
  "kernelspec": {
   "display_name": "Python 3",
   "language": "python",
   "name": "python3"
  },
  "language_info": {
   "codemirror_mode": {
    "name": "ipython",
    "version": 3
   },
   "file_extension": ".py",
   "mimetype": "text/x-python",
   "name": "python",
   "nbconvert_exporter": "python",
   "pygments_lexer": "ipython3",
   "version": "3.8.10"
  }
 },
 "nbformat": 4,
 "nbformat_minor": 4
}
